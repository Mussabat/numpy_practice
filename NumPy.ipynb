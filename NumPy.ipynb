{
 "cells": [
  {
   "cell_type": "markdown",
   "id": "eda5ee84",
   "metadata": {},
   "source": [
    "# Importing Library"
   ]
  },
  {
   "cell_type": "code",
   "execution_count": 1,
   "id": "bd995a3e",
   "metadata": {},
   "outputs": [],
   "source": [
    "import numpy as np\n"
   ]
  },
  {
   "cell_type": "markdown",
   "id": "79be6c64",
   "metadata": {},
   "source": [
    "# Array Attributes"
   ]
  },
  {
   "cell_type": "code",
   "execution_count": 2,
   "id": "25641864",
   "metadata": {},
   "outputs": [],
   "source": [
    "a = np.array([1, 2, 3]) #1D array / Vector"
   ]
  },
  {
   "cell_type": "code",
   "execution_count": 3,
   "id": "f36a3270",
   "metadata": {},
   "outputs": [
    {
     "data": {
      "text/plain": [
       "array([1, 2, 3])"
      ]
     },
     "execution_count": 3,
     "metadata": {},
     "output_type": "execute_result"
    }
   ],
   "source": [
    "a"
   ]
  },
  {
   "cell_type": "code",
   "execution_count": 4,
   "id": "190ece85",
   "metadata": {},
   "outputs": [
    {
     "data": {
      "text/plain": [
       "numpy.ndarray"
      ]
     },
     "execution_count": 4,
     "metadata": {},
     "output_type": "execute_result"
    }
   ],
   "source": [
    "type(a)"
   ]
  },
  {
   "cell_type": "code",
   "execution_count": 6,
   "id": "aa75ce8b",
   "metadata": {},
   "outputs": [
    {
     "data": {
      "text/plain": [
       "(3,)"
      ]
     },
     "execution_count": 6,
     "metadata": {},
     "output_type": "execute_result"
    }
   ],
   "source": [
    "a.shape"
   ]
  },
  {
   "cell_type": "code",
   "execution_count": 7,
   "id": "08a14836",
   "metadata": {},
   "outputs": [
    {
     "data": {
      "text/plain": [
       "1"
      ]
     },
     "execution_count": 7,
     "metadata": {},
     "output_type": "execute_result"
    }
   ],
   "source": [
    "a.ndim"
   ]
  },
  {
   "cell_type": "code",
   "execution_count": 9,
   "id": "ca61ca64",
   "metadata": {},
   "outputs": [],
   "source": [
    "b = np.array([[1, 2, 3], [4, 5, 6], [7, 8, 9]])"
   ]
  },
  {
   "cell_type": "code",
   "execution_count": 10,
   "id": "60562621",
   "metadata": {},
   "outputs": [
    {
     "data": {
      "text/plain": [
       "array([[1, 2, 3],\n",
       "       [4, 5, 6],\n",
       "       [7, 8, 9]])"
      ]
     },
     "execution_count": 10,
     "metadata": {},
     "output_type": "execute_result"
    }
   ],
   "source": [
    "b"
   ]
  },
  {
   "cell_type": "code",
   "execution_count": 11,
   "id": "f9df9114",
   "metadata": {},
   "outputs": [
    {
     "data": {
      "text/plain": [
       "2"
      ]
     },
     "execution_count": 11,
     "metadata": {},
     "output_type": "execute_result"
    }
   ],
   "source": [
    "b.ndim"
   ]
  },
  {
   "cell_type": "code",
   "execution_count": 12,
   "id": "75fc4550",
   "metadata": {},
   "outputs": [],
   "source": [
    "c = np.array([[[1, 2, 3], [4, 5, 6]],\n",
    "             \n",
    "             [[1, 2, 3], [4, 5, 6]]])"
   ]
  },
  {
   "cell_type": "code",
   "execution_count": 21,
   "id": "f09365f5",
   "metadata": {},
   "outputs": [
    {
     "data": {
      "text/plain": [
       "(3, 9)"
      ]
     },
     "execution_count": 21,
     "metadata": {},
     "output_type": "execute_result"
    }
   ],
   "source": [
    "a.size, b.size #determine how many elements are there in that array"
   ]
  },
  {
   "cell_type": "code",
   "execution_count": 13,
   "id": "69979e92",
   "metadata": {},
   "outputs": [
    {
     "data": {
      "text/plain": [
       "array([[[1, 2, 3],\n",
       "        [4, 5, 6]],\n",
       "\n",
       "       [[1, 2, 3],\n",
       "        [4, 5, 6]]])"
      ]
     },
     "execution_count": 13,
     "metadata": {},
     "output_type": "execute_result"
    }
   ],
   "source": [
    "c"
   ]
  },
  {
   "cell_type": "code",
   "execution_count": 14,
   "id": "640ec893",
   "metadata": {},
   "outputs": [
    {
     "data": {
      "text/plain": [
       "(2, 2, 3)"
      ]
     },
     "execution_count": 14,
     "metadata": {},
     "output_type": "execute_result"
    }
   ],
   "source": [
    "c.shape"
   ]
  },
  {
   "cell_type": "code",
   "execution_count": 18,
   "id": "fe8e1326",
   "metadata": {},
   "outputs": [
    {
     "data": {
      "text/plain": [
       "(dtype('int32'), dtype('int32'), dtype('int32'))"
      ]
     },
     "execution_count": 18,
     "metadata": {},
     "output_type": "execute_result"
    }
   ],
   "source": [
    "a.dtype, b.dtype, c.dtype"
   ]
  },
  {
   "cell_type": "code",
   "execution_count": 23,
   "id": "76a7932c",
   "metadata": {},
   "outputs": [
    {
     "data": {
      "text/plain": [
       "(12, 36, 48)"
      ]
     },
     "execution_count": 23,
     "metadata": {},
     "output_type": "execute_result"
    }
   ],
   "source": [
    "a.nbytes, b.nbytes, c.nbytes"
   ]
  },
  {
   "cell_type": "markdown",
   "id": "e6c3c6d1",
   "metadata": {},
   "source": [
    "# Array Cration"
   ]
  },
  {
   "cell_type": "code",
   "execution_count": 25,
   "id": "2ac110af",
   "metadata": {},
   "outputs": [],
   "source": [
    "array1 = np.array([1, 2, 3], dtype = 'float')"
   ]
  },
  {
   "cell_type": "code",
   "execution_count": 26,
   "id": "e143326c",
   "metadata": {},
   "outputs": [
    {
     "data": {
      "text/plain": [
       "array([1., 2., 3.])"
      ]
     },
     "execution_count": 26,
     "metadata": {},
     "output_type": "execute_result"
    }
   ],
   "source": [
    "array1"
   ]
  },
  {
   "cell_type": "code",
   "execution_count": 27,
   "id": "a3ac25c5",
   "metadata": {},
   "outputs": [],
   "source": [
    "zeros = np.zeros((4, 4), dtype = 'int')  # (shape, dtype)"
   ]
  },
  {
   "cell_type": "code",
   "execution_count": 28,
   "id": "1289fd27",
   "metadata": {},
   "outputs": [
    {
     "data": {
      "text/plain": [
       "array([[0, 0, 0, 0],\n",
       "       [0, 0, 0, 0],\n",
       "       [0, 0, 0, 0],\n",
       "       [0, 0, 0, 0]])"
      ]
     },
     "execution_count": 28,
     "metadata": {},
     "output_type": "execute_result"
    }
   ],
   "source": [
    "zeros"
   ]
  },
  {
   "cell_type": "code",
   "execution_count": 30,
   "id": "863da0b8",
   "metadata": {},
   "outputs": [],
   "source": [
    "ones = np.ones((3, 4), dtype = 'int')"
   ]
  },
  {
   "cell_type": "code",
   "execution_count": 31,
   "id": "3a7a82f9",
   "metadata": {},
   "outputs": [
    {
     "data": {
      "text/plain": [
       "array([[1, 1, 1, 1],\n",
       "       [1, 1, 1, 1],\n",
       "       [1, 1, 1, 1]])"
      ]
     },
     "execution_count": 31,
     "metadata": {},
     "output_type": "execute_result"
    }
   ],
   "source": [
    "ones"
   ]
  },
  {
   "cell_type": "code",
   "execution_count": 32,
   "id": "a9df382b",
   "metadata": {},
   "outputs": [],
   "source": [
    "full = np.full((5, 6), 18, dtype = 'int')"
   ]
  },
  {
   "cell_type": "code",
   "execution_count": 33,
   "id": "7e5f7005",
   "metadata": {},
   "outputs": [
    {
     "data": {
      "text/plain": [
       "array([[18, 18, 18, 18, 18, 18],\n",
       "       [18, 18, 18, 18, 18, 18],\n",
       "       [18, 18, 18, 18, 18, 18],\n",
       "       [18, 18, 18, 18, 18, 18],\n",
       "       [18, 18, 18, 18, 18, 18]])"
      ]
     },
     "execution_count": 33,
     "metadata": {},
     "output_type": "execute_result"
    }
   ],
   "source": [
    "full"
   ]
  },
  {
   "cell_type": "code",
   "execution_count": 34,
   "id": "b2becb2e",
   "metadata": {},
   "outputs": [],
   "source": [
    "identity = np.identity(4)"
   ]
  },
  {
   "cell_type": "code",
   "execution_count": 35,
   "id": "0c60d8de",
   "metadata": {},
   "outputs": [
    {
     "data": {
      "text/plain": [
       "array([[1., 0., 0., 0.],\n",
       "       [0., 1., 0., 0.],\n",
       "       [0., 0., 1., 0.],\n",
       "       [0., 0., 0., 1.]])"
      ]
     },
     "execution_count": 35,
     "metadata": {},
     "output_type": "execute_result"
    }
   ],
   "source": [
    "identity"
   ]
  },
  {
   "cell_type": "code",
   "execution_count": 36,
   "id": "5c75b39d",
   "metadata": {},
   "outputs": [],
   "source": [
    "eye = np.eye(4)"
   ]
  },
  {
   "cell_type": "code",
   "execution_count": 37,
   "id": "17050278",
   "metadata": {},
   "outputs": [
    {
     "data": {
      "text/plain": [
       "array([[1., 0., 0., 0.],\n",
       "       [0., 1., 0., 0.],\n",
       "       [0., 0., 1., 0.],\n",
       "       [0., 0., 0., 1.]])"
      ]
     },
     "execution_count": 37,
     "metadata": {},
     "output_type": "execute_result"
    }
   ],
   "source": [
    "eye"
   ]
  },
  {
   "cell_type": "code",
   "execution_count": 38,
   "id": "1439ce3a",
   "metadata": {},
   "outputs": [],
   "source": [
    "eye1 = np.eye(4, 4, 1)"
   ]
  },
  {
   "cell_type": "code",
   "execution_count": 39,
   "id": "c17dd5c8",
   "metadata": {},
   "outputs": [
    {
     "data": {
      "text/plain": [
       "array([[0., 1., 0., 0.],\n",
       "       [0., 0., 1., 0.],\n",
       "       [0., 0., 0., 1.],\n",
       "       [0., 0., 0., 0.]])"
      ]
     },
     "execution_count": 39,
     "metadata": {},
     "output_type": "execute_result"
    }
   ],
   "source": [
    "eye1"
   ]
  },
  {
   "cell_type": "code",
   "execution_count": 40,
   "id": "f7bc45ae",
   "metadata": {},
   "outputs": [],
   "source": [
    "eye2 = np.eye(4, 4, 2)"
   ]
  },
  {
   "cell_type": "code",
   "execution_count": 41,
   "id": "f5a1c6c1",
   "metadata": {},
   "outputs": [
    {
     "data": {
      "text/plain": [
       "array([[0., 0., 1., 0.],\n",
       "       [0., 0., 0., 1.],\n",
       "       [0., 0., 0., 0.],\n",
       "       [0., 0., 0., 0.]])"
      ]
     },
     "execution_count": 41,
     "metadata": {},
     "output_type": "execute_result"
    }
   ],
   "source": [
    "eye2"
   ]
  },
  {
   "cell_type": "code",
   "execution_count": 42,
   "id": "0f7d1007",
   "metadata": {},
   "outputs": [],
   "source": [
    "eye3 = np.eye(4, 4, -1)"
   ]
  },
  {
   "cell_type": "code",
   "execution_count": 43,
   "id": "e0db8db8",
   "metadata": {},
   "outputs": [
    {
     "data": {
      "text/plain": [
       "array([[0., 0., 0., 0.],\n",
       "       [1., 0., 0., 0.],\n",
       "       [0., 1., 0., 0.],\n",
       "       [0., 0., 1., 0.]])"
      ]
     },
     "execution_count": 43,
     "metadata": {},
     "output_type": "execute_result"
    }
   ],
   "source": [
    "eye3"
   ]
  },
  {
   "cell_type": "code",
   "execution_count": 44,
   "id": "c862f386",
   "metadata": {},
   "outputs": [],
   "source": [
    "arange = np.arange(1, 20)"
   ]
  },
  {
   "cell_type": "code",
   "execution_count": 45,
   "id": "6053fe37",
   "metadata": {},
   "outputs": [
    {
     "data": {
      "text/plain": [
       "array([ 1,  2,  3,  4,  5,  6,  7,  8,  9, 10, 11, 12, 13, 14, 15, 16, 17,\n",
       "       18, 19])"
      ]
     },
     "execution_count": 45,
     "metadata": {},
     "output_type": "execute_result"
    }
   ],
   "source": [
    "arange"
   ]
  },
  {
   "cell_type": "code",
   "execution_count": 46,
   "id": "543e6535",
   "metadata": {},
   "outputs": [],
   "source": [
    "arange1 = np.arange(1, 20, 2)"
   ]
  },
  {
   "cell_type": "code",
   "execution_count": 47,
   "id": "7329f564",
   "metadata": {},
   "outputs": [
    {
     "data": {
      "text/plain": [
       "array([ 1,  3,  5,  7,  9, 11, 13, 15, 17, 19])"
      ]
     },
     "execution_count": 47,
     "metadata": {},
     "output_type": "execute_result"
    }
   ],
   "source": [
    "arange1"
   ]
  },
  {
   "cell_type": "code",
   "execution_count": 48,
   "id": "fb0a3c4a",
   "metadata": {},
   "outputs": [],
   "source": [
    "linspace = np.linspace(1, 100, 10)"
   ]
  },
  {
   "cell_type": "code",
   "execution_count": 49,
   "id": "c97aa20a",
   "metadata": {},
   "outputs": [
    {
     "data": {
      "text/plain": [
       "array([  1.,  12.,  23.,  34.,  45.,  56.,  67.,  78.,  89., 100.])"
      ]
     },
     "execution_count": 49,
     "metadata": {},
     "output_type": "execute_result"
    }
   ],
   "source": [
    "linspace"
   ]
  },
  {
   "cell_type": "code",
   "execution_count": 52,
   "id": "0540fd58",
   "metadata": {},
   "outputs": [],
   "source": [
    "linspace1 = np.linspace(1, 10, 20, dtype = 'int')"
   ]
  },
  {
   "cell_type": "code",
   "execution_count": 53,
   "id": "321f3218",
   "metadata": {},
   "outputs": [
    {
     "data": {
      "text/plain": [
       "array([ 1,  1,  1,  2,  2,  3,  3,  4,  4,  5,  5,  6,  6,  7,  7,  8,  8,\n",
       "        9,  9, 10])"
      ]
     },
     "execution_count": 53,
     "metadata": {},
     "output_type": "execute_result"
    }
   ],
   "source": [
    "linspace1"
   ]
  },
  {
   "cell_type": "code",
   "execution_count": 54,
   "id": "52a91058",
   "metadata": {},
   "outputs": [],
   "source": [
    "linspace2 = np.linspace(1, 5, 15)"
   ]
  },
  {
   "cell_type": "code",
   "execution_count": 55,
   "id": "80e0f5c3",
   "metadata": {},
   "outputs": [
    {
     "data": {
      "text/plain": [
       "array([1.        , 1.28571429, 1.57142857, 1.85714286, 2.14285714,\n",
       "       2.42857143, 2.71428571, 3.        , 3.28571429, 3.57142857,\n",
       "       3.85714286, 4.14285714, 4.42857143, 4.71428571, 5.        ])"
      ]
     },
     "execution_count": 55,
     "metadata": {},
     "output_type": "execute_result"
    }
   ],
   "source": [
    "linspace2"
   ]
  },
  {
   "cell_type": "code",
   "execution_count": 57,
   "id": "55600bd6",
   "metadata": {},
   "outputs": [],
   "source": [
    "empty = np.empty((1, 8))"
   ]
  },
  {
   "cell_type": "code",
   "execution_count": 58,
   "id": "b752caea",
   "metadata": {},
   "outputs": [
    {
     "data": {
      "text/plain": [
       "array([[0.00000000e+000, 0.00000000e+000, 0.00000000e+000,\n",
       "        0.00000000e+000, 0.00000000e+000, 6.64024228e-321,\n",
       "        6.23057348e-307, 1.42419530e-306]])"
      ]
     },
     "execution_count": 58,
     "metadata": {},
     "output_type": "execute_result"
    }
   ],
   "source": [
    "empty"
   ]
  },
  {
   "cell_type": "code",
   "execution_count": 61,
   "id": "ed67f465",
   "metadata": {},
   "outputs": [],
   "source": [
    "for i in range(8) :\n",
    "    empty[:, i] = i\n"
   ]
  },
  {
   "cell_type": "code",
   "execution_count": 62,
   "id": "4b04f189",
   "metadata": {},
   "outputs": [
    {
     "data": {
      "text/plain": [
       "array([[0., 1., 2., 3., 4., 5., 6., 7.]])"
      ]
     },
     "execution_count": 62,
     "metadata": {},
     "output_type": "execute_result"
    }
   ],
   "source": [
    "empty"
   ]
  },
  {
   "cell_type": "markdown",
   "id": "956855c5",
   "metadata": {},
   "source": [
    "# Array indexing and slicing"
   ]
  },
  {
   "cell_type": "code",
   "execution_count": 64,
   "id": "c953909e",
   "metadata": {},
   "outputs": [],
   "source": [
    "arr1 = np.array([1, 2, 3, 4, 5])"
   ]
  },
  {
   "cell_type": "code",
   "execution_count": 65,
   "id": "4e1874d8",
   "metadata": {},
   "outputs": [
    {
     "name": "stdout",
     "output_type": "stream",
     "text": [
      "[1 2 3 4 5]\n"
     ]
    }
   ],
   "source": [
    "print(arr1)"
   ]
  },
  {
   "cell_type": "code",
   "execution_count": 66,
   "id": "116cd9a6",
   "metadata": {},
   "outputs": [
    {
     "data": {
      "text/plain": [
       "1"
      ]
     },
     "execution_count": 66,
     "metadata": {},
     "output_type": "execute_result"
    }
   ],
   "source": [
    "arr1[0]"
   ]
  },
  {
   "cell_type": "code",
   "execution_count": 68,
   "id": "97351266",
   "metadata": {},
   "outputs": [
    {
     "data": {
      "text/plain": [
       "4"
      ]
     },
     "execution_count": 68,
     "metadata": {},
     "output_type": "execute_result"
    }
   ],
   "source": [
    "arr1[3]"
   ]
  },
  {
   "cell_type": "code",
   "execution_count": 69,
   "id": "7ce15ad5",
   "metadata": {},
   "outputs": [
    {
     "data": {
      "text/plain": [
       "5"
      ]
     },
     "execution_count": 69,
     "metadata": {},
     "output_type": "execute_result"
    }
   ],
   "source": [
    "arr1[-1]"
   ]
  },
  {
   "cell_type": "code",
   "execution_count": 71,
   "id": "96bed125",
   "metadata": {},
   "outputs": [
    {
     "data": {
      "text/plain": [
       "1"
      ]
     },
     "execution_count": 71,
     "metadata": {},
     "output_type": "execute_result"
    }
   ],
   "source": [
    "arr1[-5]"
   ]
  },
  {
   "cell_type": "code",
   "execution_count": 74,
   "id": "3d6136de",
   "metadata": {},
   "outputs": [],
   "source": [
    "arr2 = np.random.randint(1, 20, size = (3, 4))"
   ]
  },
  {
   "cell_type": "code",
   "execution_count": 75,
   "id": "6526ff1a",
   "metadata": {},
   "outputs": [
    {
     "name": "stdout",
     "output_type": "stream",
     "text": [
      "[[ 9 15 14 18]\n",
      " [17  1  8  8]\n",
      " [ 3  7 18 17]]\n"
     ]
    }
   ],
   "source": [
    "print(arr2)"
   ]
  },
  {
   "cell_type": "code",
   "execution_count": 76,
   "id": "19d26ac2",
   "metadata": {},
   "outputs": [
    {
     "data": {
      "text/plain": [
       "8"
      ]
     },
     "execution_count": 76,
     "metadata": {},
     "output_type": "execute_result"
    }
   ],
   "source": [
    "arr2[1][2]"
   ]
  },
  {
   "cell_type": "code",
   "execution_count": 77,
   "id": "45fbccca",
   "metadata": {},
   "outputs": [
    {
     "data": {
      "text/plain": [
       "8"
      ]
     },
     "execution_count": 77,
     "metadata": {},
     "output_type": "execute_result"
    }
   ],
   "source": [
    "arr2[1, 2]"
   ]
  },
  {
   "cell_type": "code",
   "execution_count": 78,
   "id": "893e77bf",
   "metadata": {},
   "outputs": [],
   "source": [
    "arr3 = np.random.randint(1, 50, size = (3, 4, 3))"
   ]
  },
  {
   "cell_type": "code",
   "execution_count": 79,
   "id": "2eb9c946",
   "metadata": {},
   "outputs": [
    {
     "data": {
      "text/plain": [
       "array([[[27, 47, 14],\n",
       "        [31, 49, 46],\n",
       "        [38, 35, 39],\n",
       "        [37, 38, 15]],\n",
       "\n",
       "       [[ 5, 21, 21],\n",
       "        [31,  9,  8],\n",
       "        [37, 44, 42],\n",
       "        [26, 39, 28]],\n",
       "\n",
       "       [[39,  8, 44],\n",
       "        [37,  3, 38],\n",
       "        [32,  5, 43],\n",
       "        [17, 28, 35]]])"
      ]
     },
     "execution_count": 79,
     "metadata": {},
     "output_type": "execute_result"
    }
   ],
   "source": [
    "arr3"
   ]
  },
  {
   "cell_type": "code",
   "execution_count": 80,
   "id": "a21ce54b",
   "metadata": {},
   "outputs": [
    {
     "data": {
      "text/plain": [
       "49"
      ]
     },
     "execution_count": 80,
     "metadata": {},
     "output_type": "execute_result"
    }
   ],
   "source": [
    "arr3[0][1][1]"
   ]
  },
  {
   "cell_type": "code",
   "execution_count": 81,
   "id": "6d5923b0",
   "metadata": {},
   "outputs": [
    {
     "data": {
      "text/plain": [
       "49"
      ]
     },
     "execution_count": 81,
     "metadata": {},
     "output_type": "execute_result"
    }
   ],
   "source": [
    "arr3[0, 1, 1]"
   ]
  },
  {
   "cell_type": "code",
   "execution_count": 82,
   "id": "1f6f4fb3",
   "metadata": {},
   "outputs": [
    {
     "name": "stdout",
     "output_type": "stream",
     "text": [
      "[1 2 3 4 5]\n"
     ]
    }
   ],
   "source": [
    "print(arr1)"
   ]
  },
  {
   "cell_type": "code",
   "execution_count": 83,
   "id": "4839421e",
   "metadata": {},
   "outputs": [
    {
     "name": "stdout",
     "output_type": "stream",
     "text": [
      "[1 2 3]\n"
     ]
    }
   ],
   "source": [
    "print(arr1[0 : 3])"
   ]
  },
  {
   "cell_type": "code",
   "execution_count": 84,
   "id": "bec9a13a",
   "metadata": {},
   "outputs": [
    {
     "data": {
      "text/plain": [
       "array([3, 4, 5])"
      ]
     },
     "execution_count": 84,
     "metadata": {},
     "output_type": "execute_result"
    }
   ],
   "source": [
    "arr1[2 : ]"
   ]
  },
  {
   "cell_type": "code",
   "execution_count": 85,
   "id": "1eeff115",
   "metadata": {},
   "outputs": [
    {
     "name": "stdout",
     "output_type": "stream",
     "text": [
      "[[ 9 15 14 18]\n",
      " [17  1  8  8]\n",
      " [ 3  7 18 17]]\n"
     ]
    }
   ],
   "source": [
    "print(arr2)"
   ]
  },
  {
   "cell_type": "code",
   "execution_count": 87,
   "id": "0e490e60",
   "metadata": {},
   "outputs": [
    {
     "name": "stdout",
     "output_type": "stream",
     "text": [
      "[[ 9 15]\n",
      " [17  1]]\n"
     ]
    }
   ],
   "source": [
    "print(arr2[0 : 2, 0 : 2]) # (row, clm)"
   ]
  },
  {
   "cell_type": "code",
   "execution_count": 89,
   "id": "2001d51d",
   "metadata": {},
   "outputs": [
    {
     "name": "stdout",
     "output_type": "stream",
     "text": [
      "[[ 8  8]\n",
      " [18 17]]\n"
     ]
    }
   ],
   "source": [
    "print(arr2[1 : 3, 2 : 4])"
   ]
  },
  {
   "cell_type": "markdown",
   "id": "909edff3",
   "metadata": {},
   "source": [
    "## Array Shape "
   ]
  },
  {
   "cell_type": "code",
   "execution_count": 90,
   "id": "68b5ff75",
   "metadata": {},
   "outputs": [],
   "source": [
    "ar = np.array([[1, 2, 3], [4, 5, 6]])"
   ]
  },
  {
   "cell_type": "code",
   "execution_count": 91,
   "id": "ab47f092",
   "metadata": {},
   "outputs": [
    {
     "name": "stdout",
     "output_type": "stream",
     "text": [
      "[[1 2 3]\n",
      " [4 5 6]]\n"
     ]
    }
   ],
   "source": [
    "print(ar)"
   ]
  },
  {
   "cell_type": "code",
   "execution_count": 92,
   "id": "e257a38e",
   "metadata": {},
   "outputs": [
    {
     "data": {
      "text/plain": [
       "(2, 3)"
      ]
     },
     "execution_count": 92,
     "metadata": {},
     "output_type": "execute_result"
    }
   ],
   "source": [
    "ar.shape"
   ]
  },
  {
   "cell_type": "code",
   "execution_count": 96,
   "id": "b2c7ff98",
   "metadata": {},
   "outputs": [],
   "source": [
    "ar_reshape = np.reshape(ar, (3, 2))"
   ]
  },
  {
   "cell_type": "code",
   "execution_count": 97,
   "id": "51cc63c0",
   "metadata": {},
   "outputs": [
    {
     "name": "stdout",
     "output_type": "stream",
     "text": [
      "[[1 2]\n",
      " [3 4]\n",
      " [5 6]]\n"
     ]
    }
   ],
   "source": [
    "print(ar_reshape)"
   ]
  },
  {
   "cell_type": "code",
   "execution_count": 99,
   "id": "479d99a3",
   "metadata": {},
   "outputs": [
    {
     "data": {
      "text/plain": [
       "(3, 2)"
      ]
     },
     "execution_count": 99,
     "metadata": {},
     "output_type": "execute_result"
    }
   ],
   "source": [
    "ar_reshape.shape"
   ]
  },
  {
   "cell_type": "code",
   "execution_count": 100,
   "id": "ab286e5f",
   "metadata": {},
   "outputs": [
    {
     "ename": "ValueError",
     "evalue": "cannot reshape array of size 6 into shape (3,3)",
     "output_type": "error",
     "traceback": [
      "\u001b[1;31m---------------------------------------------------------------------------\u001b[0m",
      "\u001b[1;31mValueError\u001b[0m                                Traceback (most recent call last)",
      "Input \u001b[1;32mIn [100]\u001b[0m, in \u001b[0;36m<cell line: 1>\u001b[1;34m()\u001b[0m\n\u001b[1;32m----> 1\u001b[0m ar_reshape1 \u001b[38;5;241m=\u001b[39m \u001b[43mnp\u001b[49m\u001b[38;5;241;43m.\u001b[39;49m\u001b[43mreshape\u001b[49m\u001b[43m(\u001b[49m\u001b[43mar\u001b[49m\u001b[43m,\u001b[49m\u001b[43m \u001b[49m\u001b[43m(\u001b[49m\u001b[38;5;241;43m3\u001b[39;49m\u001b[43m,\u001b[49m\u001b[43m \u001b[49m\u001b[38;5;241;43m3\u001b[39;49m\u001b[43m)\u001b[49m\u001b[43m)\u001b[49m\n",
      "File \u001b[1;32m<__array_function__ internals>:5\u001b[0m, in \u001b[0;36mreshape\u001b[1;34m(*args, **kwargs)\u001b[0m\n",
      "File \u001b[1;32mD:\\Anaconda\\lib\\site-packages\\numpy\\core\\fromnumeric.py:298\u001b[0m, in \u001b[0;36mreshape\u001b[1;34m(a, newshape, order)\u001b[0m\n\u001b[0;32m    198\u001b[0m \u001b[38;5;129m@array_function_dispatch\u001b[39m(_reshape_dispatcher)\n\u001b[0;32m    199\u001b[0m \u001b[38;5;28;01mdef\u001b[39;00m \u001b[38;5;21mreshape\u001b[39m(a, newshape, order\u001b[38;5;241m=\u001b[39m\u001b[38;5;124m'\u001b[39m\u001b[38;5;124mC\u001b[39m\u001b[38;5;124m'\u001b[39m):\n\u001b[0;32m    200\u001b[0m     \u001b[38;5;124;03m\"\"\"\u001b[39;00m\n\u001b[0;32m    201\u001b[0m \u001b[38;5;124;03m    Gives a new shape to an array without changing its data.\u001b[39;00m\n\u001b[0;32m    202\u001b[0m \n\u001b[1;32m   (...)\u001b[0m\n\u001b[0;32m    296\u001b[0m \u001b[38;5;124;03m           [5, 6]])\u001b[39;00m\n\u001b[0;32m    297\u001b[0m \u001b[38;5;124;03m    \"\"\"\u001b[39;00m\n\u001b[1;32m--> 298\u001b[0m     \u001b[38;5;28;01mreturn\u001b[39;00m \u001b[43m_wrapfunc\u001b[49m\u001b[43m(\u001b[49m\u001b[43ma\u001b[49m\u001b[43m,\u001b[49m\u001b[43m \u001b[49m\u001b[38;5;124;43m'\u001b[39;49m\u001b[38;5;124;43mreshape\u001b[39;49m\u001b[38;5;124;43m'\u001b[39;49m\u001b[43m,\u001b[49m\u001b[43m \u001b[49m\u001b[43mnewshape\u001b[49m\u001b[43m,\u001b[49m\u001b[43m \u001b[49m\u001b[43morder\u001b[49m\u001b[38;5;241;43m=\u001b[39;49m\u001b[43morder\u001b[49m\u001b[43m)\u001b[49m\n",
      "File \u001b[1;32mD:\\Anaconda\\lib\\site-packages\\numpy\\core\\fromnumeric.py:57\u001b[0m, in \u001b[0;36m_wrapfunc\u001b[1;34m(obj, method, *args, **kwds)\u001b[0m\n\u001b[0;32m     54\u001b[0m     \u001b[38;5;28;01mreturn\u001b[39;00m _wrapit(obj, method, \u001b[38;5;241m*\u001b[39margs, \u001b[38;5;241m*\u001b[39m\u001b[38;5;241m*\u001b[39mkwds)\n\u001b[0;32m     56\u001b[0m \u001b[38;5;28;01mtry\u001b[39;00m:\n\u001b[1;32m---> 57\u001b[0m     \u001b[38;5;28;01mreturn\u001b[39;00m bound(\u001b[38;5;241m*\u001b[39margs, \u001b[38;5;241m*\u001b[39m\u001b[38;5;241m*\u001b[39mkwds)\n\u001b[0;32m     58\u001b[0m \u001b[38;5;28;01mexcept\u001b[39;00m \u001b[38;5;167;01mTypeError\u001b[39;00m:\n\u001b[0;32m     59\u001b[0m     \u001b[38;5;66;03m# A TypeError occurs if the object does have such a method in its\u001b[39;00m\n\u001b[0;32m     60\u001b[0m     \u001b[38;5;66;03m# class, but its signature is not identical to that of NumPy's. This\u001b[39;00m\n\u001b[1;32m   (...)\u001b[0m\n\u001b[0;32m     64\u001b[0m     \u001b[38;5;66;03m# Call _wrapit from within the except clause to ensure a potential\u001b[39;00m\n\u001b[0;32m     65\u001b[0m     \u001b[38;5;66;03m# exception has a traceback chain.\u001b[39;00m\n\u001b[0;32m     66\u001b[0m     \u001b[38;5;28;01mreturn\u001b[39;00m _wrapit(obj, method, \u001b[38;5;241m*\u001b[39margs, \u001b[38;5;241m*\u001b[39m\u001b[38;5;241m*\u001b[39mkwds)\n",
      "\u001b[1;31mValueError\u001b[0m: cannot reshape array of size 6 into shape (3,3)"
     ]
    }
   ],
   "source": [
    "ar_reshape1 = np.reshape(ar, (3, 3))"
   ]
  },
  {
   "cell_type": "code",
   "execution_count": 101,
   "id": "10c73bfb",
   "metadata": {},
   "outputs": [],
   "source": [
    "ar_resize = np.resize(ar, (3, 3))"
   ]
  },
  {
   "cell_type": "code",
   "execution_count": 102,
   "id": "94e4d8f3",
   "metadata": {},
   "outputs": [
    {
     "name": "stdout",
     "output_type": "stream",
     "text": [
      "[[1 2 3]\n",
      " [4 5 6]\n",
      " [1 2 3]]\n"
     ]
    }
   ],
   "source": [
    "print(ar_resize)"
   ]
  },
  {
   "cell_type": "code",
   "execution_count": 103,
   "id": "8c163c44",
   "metadata": {},
   "outputs": [],
   "source": [
    "ar_ravel = np.ravel(ar)   # convert n dimentional into 1 dimentional"
   ]
  },
  {
   "cell_type": "code",
   "execution_count": 105,
   "id": "8fa2482b",
   "metadata": {},
   "outputs": [
    {
     "name": "stdout",
     "output_type": "stream",
     "text": [
      "[1 2 3 4 5 6]\n"
     ]
    }
   ],
   "source": [
    "print(ar_ravel)"
   ]
  },
  {
   "cell_type": "code",
   "execution_count": 106,
   "id": "88c2f0b6",
   "metadata": {},
   "outputs": [
    {
     "data": {
      "text/plain": [
       "(6,)"
      ]
     },
     "execution_count": 106,
     "metadata": {},
     "output_type": "execute_result"
    }
   ],
   "source": [
    "ar_ravel.shape"
   ]
  },
  {
   "cell_type": "code",
   "execution_count": 108,
   "id": "583aa4a9",
   "metadata": {},
   "outputs": [],
   "source": [
    "ar_flatten = ar.flatten() #return a copy of array, always allocates a new memory"
   ]
  },
  {
   "cell_type": "code",
   "execution_count": 109,
   "id": "e9970f83",
   "metadata": {},
   "outputs": [
    {
     "name": "stdout",
     "output_type": "stream",
     "text": [
      "[1 2 3 4 5 6]\n"
     ]
    }
   ],
   "source": [
    "print(ar_flatten)"
   ]
  },
  {
   "cell_type": "code",
   "execution_count": 110,
   "id": "c4305cf8",
   "metadata": {},
   "outputs": [],
   "source": [
    "ar_ravel[0] = 100"
   ]
  },
  {
   "cell_type": "code",
   "execution_count": 111,
   "id": "b1fc6002",
   "metadata": {},
   "outputs": [
    {
     "name": "stdout",
     "output_type": "stream",
     "text": [
      "[[100   2   3]\n",
      " [  4   5   6]]\n"
     ]
    }
   ],
   "source": [
    "print(ar)"
   ]
  },
  {
   "cell_type": "code",
   "execution_count": 112,
   "id": "62533ee1",
   "metadata": {},
   "outputs": [],
   "source": [
    "ar_flatten[0] = 0"
   ]
  },
  {
   "cell_type": "code",
   "execution_count": 113,
   "id": "0a8e979b",
   "metadata": {},
   "outputs": [
    {
     "name": "stdout",
     "output_type": "stream",
     "text": [
      "[[100   2   3]\n",
      " [  4   5   6]]\n"
     ]
    }
   ],
   "source": [
    "print(ar)"
   ]
  },
  {
   "cell_type": "code",
   "execution_count": 114,
   "id": "641bf484",
   "metadata": {},
   "outputs": [
    {
     "name": "stdout",
     "output_type": "stream",
     "text": [
      "[0 2 3 4 5 6]\n"
     ]
    }
   ],
   "source": [
    "print(ar_flatten)"
   ]
  },
  {
   "cell_type": "markdown",
   "id": "636a7de5",
   "metadata": {},
   "source": [
    "### defining a array shape"
   ]
  },
  {
   "cell_type": "code",
   "execution_count": 115,
   "id": "0fb8c9f3",
   "metadata": {},
   "outputs": [],
   "source": [
    "ar.shape = (3, 2)"
   ]
  },
  {
   "cell_type": "code",
   "execution_count": 116,
   "id": "d01e9266",
   "metadata": {},
   "outputs": [
    {
     "name": "stdout",
     "output_type": "stream",
     "text": [
      "[[100   2]\n",
      " [  3   4]\n",
      " [  5   6]]\n"
     ]
    }
   ],
   "source": [
    "print(ar)"
   ]
  },
  {
   "cell_type": "code",
   "execution_count": 117,
   "id": "f516c7be",
   "metadata": {},
   "outputs": [],
   "source": [
    "ar.shape = (2, 3)"
   ]
  },
  {
   "cell_type": "code",
   "execution_count": 118,
   "id": "505d95c7",
   "metadata": {},
   "outputs": [
    {
     "name": "stdout",
     "output_type": "stream",
     "text": [
      "[[100   2   3]\n",
      " [  4   5   6]]\n"
     ]
    }
   ],
   "source": [
    "print(ar)"
   ]
  },
  {
   "cell_type": "code",
   "execution_count": 119,
   "id": "1b4e9b2c",
   "metadata": {},
   "outputs": [],
   "source": [
    "aa = np.random.randint(1,100, size = (2, 3))"
   ]
  },
  {
   "cell_type": "code",
   "execution_count": 120,
   "id": "5ca345df",
   "metadata": {},
   "outputs": [
    {
     "name": "stdout",
     "output_type": "stream",
     "text": [
      "[[40 93 84]\n",
      " [ 9 58 68]]\n"
     ]
    }
   ],
   "source": [
    "print(aa)"
   ]
  },
  {
   "cell_type": "code",
   "execution_count": 121,
   "id": "5d93b736",
   "metadata": {},
   "outputs": [],
   "source": [
    "bb = 2 * aa"
   ]
  },
  {
   "cell_type": "code",
   "execution_count": 122,
   "id": "6a3219b6",
   "metadata": {},
   "outputs": [
    {
     "name": "stdout",
     "output_type": "stream",
     "text": [
      "[[ 80 186 168]\n",
      " [ 18 116 136]]\n"
     ]
    }
   ],
   "source": [
    "print(bb)"
   ]
  },
  {
   "cell_type": "code",
   "execution_count": 123,
   "id": "542256fc",
   "metadata": {},
   "outputs": [
    {
     "data": {
      "text/plain": [
       "array([[ 40,  93,  84,  80, 186, 168],\n",
       "       [  9,  58,  68,  18, 116, 136]])"
      ]
     },
     "execution_count": 123,
     "metadata": {},
     "output_type": "execute_result"
    }
   ],
   "source": [
    "np.hstack((aa, bb))"
   ]
  },
  {
   "cell_type": "code",
   "execution_count": 124,
   "id": "1b05eb56",
   "metadata": {},
   "outputs": [
    {
     "data": {
      "text/plain": [
       "array([[ 40,  93,  84,  80, 186, 168],\n",
       "       [  9,  58,  68,  18, 116, 136]])"
      ]
     },
     "execution_count": 124,
     "metadata": {},
     "output_type": "execute_result"
    }
   ],
   "source": [
    "np.column_stack((aa, bb))"
   ]
  },
  {
   "cell_type": "code",
   "execution_count": 125,
   "id": "a8b028bf",
   "metadata": {},
   "outputs": [
    {
     "data": {
      "text/plain": [
       "array([[ 40,  93,  84,  80, 186, 168],\n",
       "       [  9,  58,  68,  18, 116, 136]])"
      ]
     },
     "execution_count": 125,
     "metadata": {},
     "output_type": "execute_result"
    }
   ],
   "source": [
    "np.concatenate((aa, bb), axis = 1)"
   ]
  },
  {
   "cell_type": "markdown",
   "id": "ad72e7c2",
   "metadata": {},
   "source": [
    "### Vertical stack"
   ]
  },
  {
   "cell_type": "code",
   "execution_count": 127,
   "id": "df14117a",
   "metadata": {},
   "outputs": [
    {
     "data": {
      "text/plain": [
       "array([[ 40,  93,  84],\n",
       "       [  9,  58,  68],\n",
       "       [ 80, 186, 168],\n",
       "       [ 18, 116, 136]])"
      ]
     },
     "execution_count": 127,
     "metadata": {},
     "output_type": "execute_result"
    }
   ],
   "source": [
    "np.vstack((aa, bb))"
   ]
  },
  {
   "cell_type": "code",
   "execution_count": 128,
   "id": "9a5558fb",
   "metadata": {},
   "outputs": [
    {
     "data": {
      "text/plain": [
       "array([[ 40,  93,  84],\n",
       "       [  9,  58,  68],\n",
       "       [ 80, 186, 168],\n",
       "       [ 18, 116, 136]])"
      ]
     },
     "execution_count": 128,
     "metadata": {},
     "output_type": "execute_result"
    }
   ],
   "source": [
    "np.concatenate((aa, bb), axis = 0)"
   ]
  },
  {
   "cell_type": "code",
   "execution_count": 129,
   "id": "2bd1ee8d",
   "metadata": {},
   "outputs": [
    {
     "data": {
      "text/plain": [
       "array([[ 40,  93,  84],\n",
       "       [  9,  58,  68],\n",
       "       [ 80, 186, 168],\n",
       "       [ 18, 116, 136]])"
      ]
     },
     "execution_count": 129,
     "metadata": {},
     "output_type": "execute_result"
    }
   ],
   "source": [
    "np.row_stack((aa, bb))"
   ]
  },
  {
   "cell_type": "markdown",
   "id": "3aba705d",
   "metadata": {},
   "source": [
    "### Depth Stack"
   ]
  },
  {
   "cell_type": "code",
   "execution_count": 130,
   "id": "0125fb05",
   "metadata": {},
   "outputs": [
    {
     "data": {
      "text/plain": [
       "array([[[ 40,  80],\n",
       "        [ 93, 186],\n",
       "        [ 84, 168]],\n",
       "\n",
       "       [[  9,  18],\n",
       "        [ 58, 116],\n",
       "        [ 68, 136]]])"
      ]
     },
     "execution_count": 130,
     "metadata": {},
     "output_type": "execute_result"
    }
   ],
   "source": [
    "np.dstack((aa, bb))"
   ]
  }
 ],
 "metadata": {
  "kernelspec": {
   "display_name": "Python 3 (ipykernel)",
   "language": "python",
   "name": "python3"
  },
  "language_info": {
   "codemirror_mode": {
    "name": "ipython",
    "version": 3
   },
   "file_extension": ".py",
   "mimetype": "text/x-python",
   "name": "python",
   "nbconvert_exporter": "python",
   "pygments_lexer": "ipython3",
   "version": "3.9.12"
  }
 },
 "nbformat": 4,
 "nbformat_minor": 5
}
